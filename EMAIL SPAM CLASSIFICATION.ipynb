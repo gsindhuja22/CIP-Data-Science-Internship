{
 "cells": [
  {
   "cell_type": "markdown",
   "id": "ff6f6710",
   "metadata": {
    "ExecuteTime": {
     "end_time": "2023-04-17T03:51:06.426834Z",
     "start_time": "2023-04-17T03:51:06.402812Z"
    }
   },
   "source": [
    "## IMPORT ALL THE LIBRARIES REQUIRED"
   ]
  },
  {
   "cell_type": "code",
   "execution_count": 1,
   "id": "d1f41bfc",
   "metadata": {
    "ExecuteTime": {
     "end_time": "2023-04-29T07:59:24.194645Z",
     "start_time": "2023-04-29T07:59:04.118017Z"
    }
   },
   "outputs": [],
   "source": [
    "import pandas as pd\n",
    "import numpy as np\n",
    "import matplotlib.pyplot as plt \n",
    "import seaborn as sns\n",
    "from sklearn.feature_extraction.text import CountVectorizer\n",
    "from sklearn.naive_bayes import MultinomialNB\n",
    "from sklearn.preprocessing import LabelEncoder \n",
    "from sklearn.model_selection import train_test_split\n",
    "from sklearn.metrics import accuracy_score, confusion_matrix, classification_report"
   ]
  },
  {
   "cell_type": "markdown",
   "id": "5dff39a9",
   "metadata": {},
   "source": [
    "## READ THE DATASET"
   ]
  },
  {
   "cell_type": "code",
   "execution_count": 2,
   "id": "d77100fa",
   "metadata": {
    "ExecuteTime": {
     "end_time": "2023-04-29T07:59:29.207884Z",
     "start_time": "2023-04-29T07:59:29.047861Z"
    }
   },
   "outputs": [],
   "source": [
    "df = pd.read_csv(\"spam_ham_dataset.csv\")"
   ]
  },
  {
   "cell_type": "markdown",
   "id": "892abfb0",
   "metadata": {},
   "source": [
    "## EXPLORE THE DATASET"
   ]
  },
  {
   "cell_type": "code",
   "execution_count": 3,
   "id": "6049d834",
   "metadata": {
    "ExecuteTime": {
     "end_time": "2023-04-29T07:59:30.847395Z",
     "start_time": "2023-04-29T07:59:30.807351Z"
    }
   },
   "outputs": [
    {
     "data": {
      "text/html": [
       "<div>\n",
       "<style scoped>\n",
       "    .dataframe tbody tr th:only-of-type {\n",
       "        vertical-align: middle;\n",
       "    }\n",
       "\n",
       "    .dataframe tbody tr th {\n",
       "        vertical-align: top;\n",
       "    }\n",
       "\n",
       "    .dataframe thead th {\n",
       "        text-align: right;\n",
       "    }\n",
       "</style>\n",
       "<table border=\"1\" class=\"dataframe\">\n",
       "  <thead>\n",
       "    <tr style=\"text-align: right;\">\n",
       "      <th></th>\n",
       "      <th>Unnamed: 0</th>\n",
       "      <th>label</th>\n",
       "      <th>text</th>\n",
       "      <th>label_num</th>\n",
       "    </tr>\n",
       "  </thead>\n",
       "  <tbody>\n",
       "    <tr>\n",
       "      <th>0</th>\n",
       "      <td>605</td>\n",
       "      <td>ham</td>\n",
       "      <td>Subject: enron methanol ; meter # : 988291\\r\\n...</td>\n",
       "      <td>0</td>\n",
       "    </tr>\n",
       "    <tr>\n",
       "      <th>1</th>\n",
       "      <td>2349</td>\n",
       "      <td>ham</td>\n",
       "      <td>Subject: hpl nom for january 9 , 2001\\r\\n( see...</td>\n",
       "      <td>0</td>\n",
       "    </tr>\n",
       "    <tr>\n",
       "      <th>2</th>\n",
       "      <td>3624</td>\n",
       "      <td>ham</td>\n",
       "      <td>Subject: neon retreat\\r\\nho ho ho , we ' re ar...</td>\n",
       "      <td>0</td>\n",
       "    </tr>\n",
       "    <tr>\n",
       "      <th>3</th>\n",
       "      <td>4685</td>\n",
       "      <td>spam</td>\n",
       "      <td>Subject: photoshop , windows , office . cheap ...</td>\n",
       "      <td>1</td>\n",
       "    </tr>\n",
       "    <tr>\n",
       "      <th>4</th>\n",
       "      <td>2030</td>\n",
       "      <td>ham</td>\n",
       "      <td>Subject: re : indian springs\\r\\nthis deal is t...</td>\n",
       "      <td>0</td>\n",
       "    </tr>\n",
       "  </tbody>\n",
       "</table>\n",
       "</div>"
      ],
      "text/plain": [
       "   Unnamed: 0 label                                               text  \\\n",
       "0         605   ham  Subject: enron methanol ; meter # : 988291\\r\\n...   \n",
       "1        2349   ham  Subject: hpl nom for january 9 , 2001\\r\\n( see...   \n",
       "2        3624   ham  Subject: neon retreat\\r\\nho ho ho , we ' re ar...   \n",
       "3        4685  spam  Subject: photoshop , windows , office . cheap ...   \n",
       "4        2030   ham  Subject: re : indian springs\\r\\nthis deal is t...   \n",
       "\n",
       "   label_num  \n",
       "0          0  \n",
       "1          0  \n",
       "2          0  \n",
       "3          1  \n",
       "4          0  "
      ]
     },
     "execution_count": 3,
     "metadata": {},
     "output_type": "execute_result"
    }
   ],
   "source": [
    "df.head()"
   ]
  },
  {
   "cell_type": "code",
   "execution_count": 4,
   "id": "65e88ad1",
   "metadata": {
    "ExecuteTime": {
     "end_time": "2023-04-29T07:59:32.282060Z",
     "start_time": "2023-04-29T07:59:32.231829Z"
    }
   },
   "outputs": [
    {
     "data": {
      "text/html": [
       "<div>\n",
       "<style scoped>\n",
       "    .dataframe tbody tr th:only-of-type {\n",
       "        vertical-align: middle;\n",
       "    }\n",
       "\n",
       "    .dataframe tbody tr th {\n",
       "        vertical-align: top;\n",
       "    }\n",
       "\n",
       "    .dataframe thead th {\n",
       "        text-align: right;\n",
       "    }\n",
       "</style>\n",
       "<table border=\"1\" class=\"dataframe\">\n",
       "  <thead>\n",
       "    <tr style=\"text-align: right;\">\n",
       "      <th></th>\n",
       "      <th>count</th>\n",
       "      <th>mean</th>\n",
       "      <th>std</th>\n",
       "      <th>min</th>\n",
       "      <th>25%</th>\n",
       "      <th>50%</th>\n",
       "      <th>75%</th>\n",
       "      <th>max</th>\n",
       "    </tr>\n",
       "  </thead>\n",
       "  <tbody>\n",
       "    <tr>\n",
       "      <th>Unnamed: 0</th>\n",
       "      <td>5171.0</td>\n",
       "      <td>2585.000000</td>\n",
       "      <td>1492.883452</td>\n",
       "      <td>0.0</td>\n",
       "      <td>1292.5</td>\n",
       "      <td>2585.0</td>\n",
       "      <td>3877.5</td>\n",
       "      <td>5170.0</td>\n",
       "    </tr>\n",
       "    <tr>\n",
       "      <th>label_num</th>\n",
       "      <td>5171.0</td>\n",
       "      <td>0.289886</td>\n",
       "      <td>0.453753</td>\n",
       "      <td>0.0</td>\n",
       "      <td>0.0</td>\n",
       "      <td>0.0</td>\n",
       "      <td>1.0</td>\n",
       "      <td>1.0</td>\n",
       "    </tr>\n",
       "  </tbody>\n",
       "</table>\n",
       "</div>"
      ],
      "text/plain": [
       "             count         mean          std  min     25%     50%     75%  \\\n",
       "Unnamed: 0  5171.0  2585.000000  1492.883452  0.0  1292.5  2585.0  3877.5   \n",
       "label_num   5171.0     0.289886     0.453753  0.0     0.0     0.0     1.0   \n",
       "\n",
       "               max  \n",
       "Unnamed: 0  5170.0  \n",
       "label_num      1.0  "
      ]
     },
     "execution_count": 4,
     "metadata": {},
     "output_type": "execute_result"
    }
   ],
   "source": [
    "df.describe().T"
   ]
  },
  {
   "cell_type": "code",
   "execution_count": 5,
   "id": "fbf87c15",
   "metadata": {
    "ExecuteTime": {
     "end_time": "2023-04-29T07:59:34.092722Z",
     "start_time": "2023-04-29T07:59:34.061446Z"
    }
   },
   "outputs": [
    {
     "data": {
      "text/plain": [
       "ham     3672\n",
       "spam    1499\n",
       "Name: label, dtype: int64"
      ]
     },
     "execution_count": 5,
     "metadata": {},
     "output_type": "execute_result"
    }
   ],
   "source": [
    "df['label'].value_counts()"
   ]
  },
  {
   "cell_type": "code",
   "execution_count": 6,
   "id": "f566e6bc",
   "metadata": {
    "ExecuteTime": {
     "end_time": "2023-04-29T07:59:35.444660Z",
     "start_time": "2023-04-29T07:59:35.149214Z"
    }
   },
   "outputs": [
    {
     "data": {
      "image/png": "[encoded data removed]",
      "text/plain": [
       "<Figure size 640x480 with 1 Axes>"
      ]
     },
     "metadata": {},
     "output_type": "display_data"
    }
   ],
   "source": [
    "count_spam=pd.value_counts(df['label'], sort= True)\n",
    "count_spam.plot(kind= 'bar', color= [\"blue\", \"orange\"])\n",
    "plt.title('Bar chart')\n",
    "plt.show()"
   ]
  },
  {
   "cell_type": "code",
   "execution_count": 7,
   "id": "a531bde9",
   "metadata": {
    "ExecuteTime": {
     "end_time": "2023-04-29T07:59:36.848647Z",
     "start_time": "2023-04-29T07:59:36.825673Z"
    }
   },
   "outputs": [],
   "source": [
    "X,y = df.text, df.label"
   ]
  },
  {
   "cell_type": "markdown",
   "id": "baf938d8",
   "metadata": {},
   "source": [
    "## SPLIT THE DATASET"
   ]
  },
  {
   "cell_type": "code",
   "execution_count": 8,
   "id": "ddcf7082",
   "metadata": {
    "ExecuteTime": {
     "end_time": "2023-04-29T07:59:38.151397Z",
     "start_time": "2023-04-29T07:59:38.117048Z"
    }
   },
   "outputs": [],
   "source": [
    "X_train , X_test, y_train , y_test = train_test_split(X, y, test_size=0.2)"
   ]
  },
  {
   "cell_type": "markdown",
   "id": "47e03be3",
   "metadata": {},
   "source": [
    "## DATAPREPROCESSING USING CountVectorizer()"
   ]
  },
  {
   "cell_type": "markdown",
   "id": "50bae9b8",
   "metadata": {},
   "source": [
    "## CountVectorizer() is used to clean data "
   ]
  },
  {
   "cell_type": "code",
   "execution_count": 9,
   "id": "0c62cb0f",
   "metadata": {
    "ExecuteTime": {
     "end_time": "2023-04-29T07:59:40.510329Z",
     "start_time": "2023-04-29T07:59:40.493295Z"
    }
   },
   "outputs": [],
   "source": [
    "vectorizer = CountVectorizer() #stop_words = 'english'"
   ]
  },
  {
   "cell_type": "code",
   "execution_count": 10,
   "id": "7b85316a",
   "metadata": {
    "ExecuteTime": {
     "end_time": "2023-04-29T07:59:41.942899Z",
     "start_time": "2023-04-29T07:59:40.772292Z"
    }
   },
   "outputs": [],
   "source": [
    "count = vectorizer.fit_transform(X_train.values)"
   ]
  },
  {
   "cell_type": "code",
   "execution_count": 11,
   "id": "fcea16ad",
   "metadata": {
    "ExecuteTime": {
     "end_time": "2023-04-29T07:59:43.468559Z",
     "start_time": "2023-04-29T07:59:41.950889Z"
    }
   },
   "outputs": [
    {
     "data": {
      "text/plain": [
       "array([[0, 0, 0, ..., 0, 0, 0],\n",
       "       [0, 5, 0, ..., 0, 0, 0],\n",
       "       [2, 0, 0, ..., 0, 0, 0],\n",
       "       ...,\n",
       "       [0, 0, 0, ..., 0, 0, 0],\n",
       "       [0, 0, 0, ..., 0, 0, 0],\n",
       "       [0, 0, 0, ..., 0, 0, 0]], dtype=int64)"
      ]
     },
     "execution_count": 11,
     "metadata": {},
     "output_type": "execute_result"
    }
   ],
   "source": [
    "frequency_matrix = vectorizer.transform(X_train.values).toarray()\n",
    "frequency_matrix"
   ]
  },
  {
   "cell_type": "code",
   "execution_count": 12,
   "id": "2cce47a7",
   "metadata": {
    "ExecuteTime": {
     "end_time": "2023-04-29T07:59:44.796984Z",
     "start_time": "2023-04-29T07:59:44.772762Z"
    }
   },
   "outputs": [],
   "source": [
    "labels = y_train.values"
   ]
  },
  {
   "cell_type": "markdown",
   "id": "79378ac6",
   "metadata": {},
   "source": [
    "## BUILD A MODEL"
   ]
  },
  {
   "cell_type": "code",
   "execution_count": 13,
   "id": "cf1cfafa",
   "metadata": {
    "ExecuteTime": {
     "end_time": "2023-04-29T07:59:46.513160Z",
     "start_time": "2023-04-29T07:59:46.447775Z"
    }
   },
   "outputs": [
    {
     "data": {
      "text/plain": [
       "MultinomialNB()"
      ]
     },
     "execution_count": 13,
     "metadata": {},
     "output_type": "execute_result"
    }
   ],
   "source": [
    "model =  MultinomialNB()\n",
    "model.fit(count, labels)"
   ]
  },
  {
   "cell_type": "code",
   "execution_count": 14,
   "id": "90811fa4",
   "metadata": {
    "ExecuteTime": {
     "end_time": "2023-04-29T07:59:47.062864Z",
     "start_time": "2023-04-29T07:59:46.703006Z"
    }
   },
   "outputs": [],
   "source": [
    "y_pred = model.predict(vectorizer.transform(X_test))"
   ]
  },
  {
   "cell_type": "markdown",
   "id": "bc4e3a91",
   "metadata": {},
   "source": [
    "## EVALUATE THE MODEL"
   ]
  },
  {
   "cell_type": "code",
   "execution_count": 15,
   "id": "d9b9c5d6",
   "metadata": {
    "ExecuteTime": {
     "end_time": "2023-04-29T07:59:47.944502Z",
     "start_time": "2023-04-29T07:59:47.907208Z"
    }
   },
   "outputs": [
    {
     "name": "stdout",
     "output_type": "stream",
     "text": [
      "0.978743961352657\n"
     ]
    }
   ],
   "source": [
    "print(accuracy_score(y_test, y_pred))"
   ]
  },
  {
   "cell_type": "code",
   "execution_count": 16,
   "id": "62f9a3eb",
   "metadata": {
    "ExecuteTime": {
     "end_time": "2023-04-29T07:59:48.259536Z",
     "start_time": "2023-04-29T07:59:48.179542Z"
    }
   },
   "outputs": [
    {
     "name": "stdout",
     "output_type": "stream",
     "text": [
      "              precision    recall  f1-score   support\n",
      "\n",
      "         ham       0.98      0.99      0.99       746\n",
      "        spam       0.97      0.96      0.96       289\n",
      "\n",
      "    accuracy                           0.98      1035\n",
      "   macro avg       0.98      0.97      0.97      1035\n",
      "weighted avg       0.98      0.98      0.98      1035\n",
      "\n"
     ]
    }
   ],
   "source": [
    "print(classification_report(y_test, y_pred))\n"
   ]
  },
  {
   "cell_type": "code",
   "execution_count": 17,
   "id": "82d3b02f",
   "metadata": {
    "ExecuteTime": {
     "end_time": "2023-04-29T07:59:49.830711Z",
     "start_time": "2023-04-29T07:59:49.506800Z"
    }
   },
   "outputs": [
    {
     "name": "stdout",
     "output_type": "stream",
     "text": [
      "[[737   9]\n",
      " [ 13 276]]\n"
     ]
    },
    {
     "data": {
      "text/plain": [
       "<AxesSubplot:>"
      ]
     },
     "execution_count": 17,
     "metadata": {},
     "output_type": "execute_result"
    },
    {
     "data": {
      "image/png": "[encoded data removed]",
      "text/plain": [
       "<Figure size 640x480 with 2 Axes>"
      ]
     },
     "metadata": {},
     "output_type": "display_data"
    }
   ],
   "source": [
    "import seaborn as sns\n",
    "print(confusion_matrix(y_test, y_pred))\n",
    "sns.heatmap(confusion_matrix(y_test, y_pred),annot=True)"
   ]
  },
  {
   "cell_type": "code",
   "execution_count": null,
   "id": "aa35550d",
   "metadata": {},
   "outputs": [],
   "source": []
  }
 ],
 "metadata": {
  "kernelspec": {
   "display_name": "Python 3 (ipykernel)",
   "language": "python",
   "name": "python3"
  },
  "language_info": {
   "codemirror_mode": {
    "name": "ipython",
    "version": 3
   },
   "file_extension": ".py",
   "mimetype": "text/x-python",
   "name": "python",
   "nbconvert_exporter": "python",
   "pygments_lexer": "ipython3",
   "version": "3.7.2"
  }
 },
 "nbformat": 4,
 "nbformat_minor": 5
}
